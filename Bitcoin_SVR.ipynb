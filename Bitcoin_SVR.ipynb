{
  "nbformat": 4,
  "nbformat_minor": 0,
  "metadata": {
    "colab": {
      "name": "Bitcoin_SVR.ipynb",
      "provenance": [],
      "collapsed_sections": []
    },
    "kernelspec": {
      "name": "python3",
      "display_name": "Python 3"
    },
    "language_info": {
      "name": "python"
    }
  },
  "cells": [
    {
      "cell_type": "code",
      "metadata": {
        "id": "jIbHPY_g0oEH"
      },
      "source": [
        "import numpy as np\n",
        "import pandas as pd\n",
        "import matplotlib.pyplot as plt"
      ],
      "execution_count": null,
      "outputs": []
    },
    {
      "cell_type": "code",
      "metadata": {
        "colab": {
          "base_uri": "https://localhost:8080/",
          "height": 204
        },
        "id": "ZF7SvyLy0uC1",
        "outputId": "fa676166-18c5-4ea4-91a3-10395b0fa7f0"
      },
      "source": [
        "data = pd.read_csv('/content/drive/MyDrive/Dataset/bitstampUSD_1-min_data_2012-01-01_to_2021-03-31.csv')\n",
        "data.head()"
      ],
      "execution_count": null,
      "outputs": [
        {
          "output_type": "execute_result",
          "data": {
            "text/html": [
              "<div>\n",
              "<style scoped>\n",
              "    .dataframe tbody tr th:only-of-type {\n",
              "        vertical-align: middle;\n",
              "    }\n",
              "\n",
              "    .dataframe tbody tr th {\n",
              "        vertical-align: top;\n",
              "    }\n",
              "\n",
              "    .dataframe thead th {\n",
              "        text-align: right;\n",
              "    }\n",
              "</style>\n",
              "<table border=\"1\" class=\"dataframe\">\n",
              "  <thead>\n",
              "    <tr style=\"text-align: right;\">\n",
              "      <th></th>\n",
              "      <th>Timestamp</th>\n",
              "      <th>Open</th>\n",
              "      <th>High</th>\n",
              "      <th>Low</th>\n",
              "      <th>Close</th>\n",
              "      <th>Volume_(BTC)</th>\n",
              "      <th>Volume_(Currency)</th>\n",
              "      <th>Weighted_Price</th>\n",
              "    </tr>\n",
              "  </thead>\n",
              "  <tbody>\n",
              "    <tr>\n",
              "      <th>0</th>\n",
              "      <td>1325317920</td>\n",
              "      <td>4.39</td>\n",
              "      <td>4.39</td>\n",
              "      <td>4.39</td>\n",
              "      <td>4.39</td>\n",
              "      <td>0.455581</td>\n",
              "      <td>2.0</td>\n",
              "      <td>4.39</td>\n",
              "    </tr>\n",
              "    <tr>\n",
              "      <th>1</th>\n",
              "      <td>1325317980</td>\n",
              "      <td>NaN</td>\n",
              "      <td>NaN</td>\n",
              "      <td>NaN</td>\n",
              "      <td>NaN</td>\n",
              "      <td>NaN</td>\n",
              "      <td>NaN</td>\n",
              "      <td>NaN</td>\n",
              "    </tr>\n",
              "    <tr>\n",
              "      <th>2</th>\n",
              "      <td>1325318040</td>\n",
              "      <td>NaN</td>\n",
              "      <td>NaN</td>\n",
              "      <td>NaN</td>\n",
              "      <td>NaN</td>\n",
              "      <td>NaN</td>\n",
              "      <td>NaN</td>\n",
              "      <td>NaN</td>\n",
              "    </tr>\n",
              "    <tr>\n",
              "      <th>3</th>\n",
              "      <td>1325318100</td>\n",
              "      <td>NaN</td>\n",
              "      <td>NaN</td>\n",
              "      <td>NaN</td>\n",
              "      <td>NaN</td>\n",
              "      <td>NaN</td>\n",
              "      <td>NaN</td>\n",
              "      <td>NaN</td>\n",
              "    </tr>\n",
              "    <tr>\n",
              "      <th>4</th>\n",
              "      <td>1325318160</td>\n",
              "      <td>NaN</td>\n",
              "      <td>NaN</td>\n",
              "      <td>NaN</td>\n",
              "      <td>NaN</td>\n",
              "      <td>NaN</td>\n",
              "      <td>NaN</td>\n",
              "      <td>NaN</td>\n",
              "    </tr>\n",
              "  </tbody>\n",
              "</table>\n",
              "</div>"
            ],
            "text/plain": [
              "    Timestamp  Open  High  ...  Volume_(BTC)  Volume_(Currency)  Weighted_Price\n",
              "0  1325317920  4.39  4.39  ...      0.455581                2.0            4.39\n",
              "1  1325317980   NaN   NaN  ...           NaN                NaN             NaN\n",
              "2  1325318040   NaN   NaN  ...           NaN                NaN             NaN\n",
              "3  1325318100   NaN   NaN  ...           NaN                NaN             NaN\n",
              "4  1325318160   NaN   NaN  ...           NaN                NaN             NaN\n",
              "\n",
              "[5 rows x 8 columns]"
            ]
          },
          "metadata": {},
          "execution_count": 2
        }
      ]
    },
    {
      "cell_type": "code",
      "metadata": {
        "colab": {
          "base_uri": "https://localhost:8080/"
        },
        "id": "RvPOjG3q0ytt",
        "outputId": "4efb6054-e4f5-46b1-c3c4-95e307e1fc21"
      },
      "source": [
        "data.dtypes"
      ],
      "execution_count": null,
      "outputs": [
        {
          "output_type": "execute_result",
          "data": {
            "text/plain": [
              "Timestamp              int64\n",
              "Open                 float64\n",
              "High                 float64\n",
              "Low                  float64\n",
              "Close                float64\n",
              "Volume_(BTC)         float64\n",
              "Volume_(Currency)    float64\n",
              "Weighted_Price       float64\n",
              "dtype: object"
            ]
          },
          "metadata": {},
          "execution_count": 3
        }
      ]
    },
    {
      "cell_type": "code",
      "metadata": {
        "id": "9_kQml3y01II"
      },
      "source": [
        "data['Timestamp'] = data['Timestamp'].astype(float)"
      ],
      "execution_count": null,
      "outputs": []
    },
    {
      "cell_type": "code",
      "metadata": {
        "id": "QWv9x3oK05Jt"
      },
      "source": [
        "data_nan = data.dropna()"
      ],
      "execution_count": null,
      "outputs": []
    },
    {
      "cell_type": "code",
      "metadata": {
        "colab": {
          "base_uri": "https://localhost:8080/",
          "height": 204
        },
        "id": "eBZTEpQK08Ld",
        "outputId": "c90c6b12-37cd-4713-f680-dd604cbadada"
      },
      "source": [
        "data_nan.reset_index(inplace=True, drop=True)\n",
        "data_nan.head()"
      ],
      "execution_count": null,
      "outputs": [
        {
          "output_type": "execute_result",
          "data": {
            "text/html": [
              "<div>\n",
              "<style scoped>\n",
              "    .dataframe tbody tr th:only-of-type {\n",
              "        vertical-align: middle;\n",
              "    }\n",
              "\n",
              "    .dataframe tbody tr th {\n",
              "        vertical-align: top;\n",
              "    }\n",
              "\n",
              "    .dataframe thead th {\n",
              "        text-align: right;\n",
              "    }\n",
              "</style>\n",
              "<table border=\"1\" class=\"dataframe\">\n",
              "  <thead>\n",
              "    <tr style=\"text-align: right;\">\n",
              "      <th></th>\n",
              "      <th>Timestamp</th>\n",
              "      <th>Open</th>\n",
              "      <th>High</th>\n",
              "      <th>Low</th>\n",
              "      <th>Close</th>\n",
              "      <th>Volume_(BTC)</th>\n",
              "      <th>Volume_(Currency)</th>\n",
              "      <th>Weighted_Price</th>\n",
              "    </tr>\n",
              "  </thead>\n",
              "  <tbody>\n",
              "    <tr>\n",
              "      <th>0</th>\n",
              "      <td>1.325318e+09</td>\n",
              "      <td>4.39</td>\n",
              "      <td>4.39</td>\n",
              "      <td>4.39</td>\n",
              "      <td>4.39</td>\n",
              "      <td>0.455581</td>\n",
              "      <td>2.000000</td>\n",
              "      <td>4.390000</td>\n",
              "    </tr>\n",
              "    <tr>\n",
              "      <th>1</th>\n",
              "      <td>1.325347e+09</td>\n",
              "      <td>4.39</td>\n",
              "      <td>4.39</td>\n",
              "      <td>4.39</td>\n",
              "      <td>4.39</td>\n",
              "      <td>48.000000</td>\n",
              "      <td>210.720000</td>\n",
              "      <td>4.390000</td>\n",
              "    </tr>\n",
              "    <tr>\n",
              "      <th>2</th>\n",
              "      <td>1.325351e+09</td>\n",
              "      <td>4.50</td>\n",
              "      <td>4.57</td>\n",
              "      <td>4.50</td>\n",
              "      <td>4.57</td>\n",
              "      <td>37.862297</td>\n",
              "      <td>171.380338</td>\n",
              "      <td>4.526411</td>\n",
              "    </tr>\n",
              "    <tr>\n",
              "      <th>3</th>\n",
              "      <td>1.325351e+09</td>\n",
              "      <td>4.58</td>\n",
              "      <td>4.58</td>\n",
              "      <td>4.58</td>\n",
              "      <td>4.58</td>\n",
              "      <td>9.000000</td>\n",
              "      <td>41.220000</td>\n",
              "      <td>4.580000</td>\n",
              "    </tr>\n",
              "    <tr>\n",
              "      <th>4</th>\n",
              "      <td>1.325391e+09</td>\n",
              "      <td>4.58</td>\n",
              "      <td>4.58</td>\n",
              "      <td>4.58</td>\n",
              "      <td>4.58</td>\n",
              "      <td>1.502000</td>\n",
              "      <td>6.879160</td>\n",
              "      <td>4.580000</td>\n",
              "    </tr>\n",
              "  </tbody>\n",
              "</table>\n",
              "</div>"
            ],
            "text/plain": [
              "      Timestamp  Open  High  ...  Volume_(BTC)  Volume_(Currency)  Weighted_Price\n",
              "0  1.325318e+09  4.39  4.39  ...      0.455581           2.000000        4.390000\n",
              "1  1.325347e+09  4.39  4.39  ...     48.000000         210.720000        4.390000\n",
              "2  1.325351e+09  4.50  4.57  ...     37.862297         171.380338        4.526411\n",
              "3  1.325351e+09  4.58  4.58  ...      9.000000          41.220000        4.580000\n",
              "4  1.325391e+09  4.58  4.58  ...      1.502000           6.879160        4.580000\n",
              "\n",
              "[5 rows x 8 columns]"
            ]
          },
          "metadata": {},
          "execution_count": 6
        }
      ]
    },
    {
      "cell_type": "code",
      "metadata": {
        "id": "wlV9l1eE0_i4"
      },
      "source": [
        "from sklearn.preprocessing import StandardScaler\n",
        "scaling =  StandardScaler()\n",
        "x1 = data_nan.iloc[:4000,0].values\n",
        "y1 = data_nan.iloc[:4000,-1].values\n",
        "x1 = np.reshape(x1,(-1,1))\n",
        "y1 = np.reshape(y1,(-1,1))\n",
        "x1 = scaling.fit_transform(x1)\n",
        "y1 = scaling.fit_transform(y1) "
      ],
      "execution_count": null,
      "outputs": []
    },
    {
      "cell_type": "code",
      "metadata": {
        "id": "cN8jdGMh1HRO"
      },
      "source": [
        "from sklearn.model_selection import train_test_split\n",
        "x_train1,x_test1,y_train1,y_test1 = train_test_split(x1,y1,test_size=0.2,\n",
        "                                                     random_state=2021)"
      ],
      "execution_count": null,
      "outputs": []
    },
    {
      "cell_type": "code",
      "metadata": {
        "colab": {
          "base_uri": "https://localhost:8080/"
        },
        "id": "EE6FPCKe1Jnw",
        "outputId": "96bd16e9-a06d-4425-b103-7d422bdb89a3"
      },
      "source": [
        "x_train1 = np.reshape(x_train1,(-1,1))\n",
        "x_test1 = np.reshape(x_test1,(-1,1))\n",
        "y_train1 = np.reshape(y_train1,(-1,1))\n",
        "y_test1 = np.reshape(y_test1,(-1,1))\n",
        "print(x_train1.shape)\n",
        "print(x_test1.shape)\n",
        "print(y_train1.shape)\n",
        "print(y_test1.shape)"
      ],
      "execution_count": null,
      "outputs": [
        {
          "output_type": "stream",
          "name": "stdout",
          "text": [
            "(3200, 1)\n",
            "(800, 1)\n",
            "(3200, 1)\n",
            "(800, 1)\n"
          ]
        }
      ]
    },
    {
      "cell_type": "code",
      "metadata": {
        "colab": {
          "base_uri": "https://localhost:8080/"
        },
        "id": "cTUKStMF1L9a",
        "outputId": "8d7ce9d0-4e98-4483-d6ad-7a5a47723438"
      },
      "source": [
        "from sklearn.svm import SVR\n",
        "svr_reg = SVR(kernel='rbf',C=50)\n",
        "svr_reg.fit(x_train1,y_train1)\n",
        "y_pred1 = svr_reg.predict(x_test1)"
      ],
      "execution_count": null,
      "outputs": [
        {
          "output_type": "stream",
          "name": "stderr",
          "text": [
            "/usr/local/lib/python3.7/dist-packages/sklearn/utils/validation.py:760: DataConversionWarning: A column-vector y was passed when a 1d array was expected. Please change the shape of y to (n_samples, ), for example using ravel().\n",
            "  y = column_or_1d(y, warn=True)\n"
          ]
        }
      ]
    },
    {
      "cell_type": "code",
      "metadata": {
        "colab": {
          "base_uri": "https://localhost:8080/",
          "height": 268
        },
        "id": "3GnjmgkmM7C5",
        "outputId": "1e523a2b-19e1-44cb-d32d-0c0f685adaf5"
      },
      "source": [
        "plt.scatter(x1,y1)\n",
        "plt.plot(x1,svr_reg.predict(x1),color='red')\n",
        "plt.show()"
      ],
      "execution_count": null,
      "outputs": [
        {
          "output_type": "display_data",
          "data": {
            "image/png": "[encoded data removed]",
            "text/plain": [
              "<Figure size 432x288 with 1 Axes>"
            ]
          },
          "metadata": {
            "needs_background": "light"
          }
        }
      ]
    },
    {
      "cell_type": "code",
      "metadata": {
        "colab": {
          "base_uri": "https://localhost:8080/"
        },
        "id": "Op2eMW9f1QS2",
        "outputId": "2c41a26e-01dc-4429-eef7-4c5a0f0b1f6b"
      },
      "source": [
        "r_squared_svr = svr_reg.score(x1,y1)\n",
        "print(r_squared_svr)"
      ],
      "execution_count": null,
      "outputs": [
        {
          "output_type": "stream",
          "name": "stdout",
          "text": [
            "0.8102312851521193\n"
          ]
        }
      ]
    },
    {
      "cell_type": "markdown",
      "metadata": {
        "id": "TbgFa7biPCOk"
      },
      "source": [
        "Decision Trees"
      ]
    },
    {
      "cell_type": "code",
      "metadata": {
        "id": "_hVr_iDPPFqH"
      },
      "source": [
        "x2 = data_nan['Timestamp'].values\n",
        "y2 = data_nan['Weighted_Price'].values\n",
        "from sklearn.model_selection import train_test_split\n",
        "x_train2,x_test2,y_train2,y_test2 = train_test_split(x2,y2,test_size=0.2,\n",
        "                                                     random_state=2021)"
      ],
      "execution_count": null,
      "outputs": []
    },
    {
      "cell_type": "code",
      "metadata": {
        "colab": {
          "base_uri": "https://localhost:8080/"
        },
        "id": "N8K9nBZXQHQu",
        "outputId": "96414390-5dc1-4568-d7bd-a04fc64ac347"
      },
      "source": [
        "x_train2 = np.reshape(x_train2,(-1,1))\n",
        "x_test2 = np.reshape(x_test2,(-1,1))\n",
        "y_train2 = np.reshape(y_train2,(-1,1))\n",
        "y_test2 = np.reshape(y_test2,(-1,1))\n",
        "print(x_train2.shape)\n",
        "print(x_test2.shape)\n",
        "print(y_train2.shape)\n",
        "print(y_test2.shape)"
      ],
      "execution_count": null,
      "outputs": [
        {
          "output_type": "stream",
          "name": "stdout",
          "text": [
            "(2891015, 1)\n",
            "(722754, 1)\n",
            "(2891015, 1)\n",
            "(722754, 1)\n"
          ]
        }
      ]
    },
    {
      "cell_type": "code",
      "metadata": {
        "id": "pDW-YCIFQWaj"
      },
      "source": [
        "from sklearn.tree import DecisionTreeRegressor\n",
        "dt_reg = DecisionTreeRegressor(criterion='mse')\n",
        "dt_reg.fit(x_train2,y_train2)\n",
        "y_pred2 = dt_reg.predict(x_test2)"
      ],
      "execution_count": null,
      "outputs": []
    },
    {
      "cell_type": "code",
      "metadata": {
        "colab": {
          "base_uri": "https://localhost:8080/"
        },
        "id": "nhTJLOrAQ8JZ",
        "outputId": "0ab9455f-6d43-4db4-fdc1-f2921d497d2b"
      },
      "source": [
        "x2 = np.reshape(x2,(-1,1))\n",
        "y2 = np.reshape(y2,(-1,1))\n",
        "r_squared_dt = dt_reg.score(x2,y2)\n",
        "print(r_squared_dt)"
      ],
      "execution_count": null,
      "outputs": [
        {
          "output_type": "stream",
          "name": "stdout",
          "text": [
            "0.9999989441155006\n"
          ]
        }
      ]
    },
    {
      "cell_type": "code",
      "metadata": {
        "colab": {
          "base_uri": "https://localhost:8080/",
          "height": 278
        },
        "id": "Bn-HjbGcRbnr",
        "outputId": "3fd2006f-aeda-49bb-c63e-8c513cbd5b5c"
      },
      "source": [
        "plt.scatter(x2,y2)\n",
        "plt.plot(x2,dt_reg.predict(x2),color='red')\n",
        "plt.show()"
      ],
      "execution_count": null,
      "outputs": [
        {
          "output_type": "display_data",
          "data": {
            "image/png": "[encoded data removed]",
            "text/plain": [
              "<Figure size 432x288 with 1 Axes>"
            ]
          },
          "metadata": {
            "needs_background": "light"
          }
        }
      ]
    },
    {
      "cell_type": "code",
      "metadata": {
        "colab": {
          "base_uri": "https://localhost:8080/"
        },
        "id": "682qj2NUR-x8",
        "outputId": "bd8826a8-fa66-4557-c07a-051e5bfbd0a6"
      },
      "source": [
        "from sklearn.metrics import max_error\n",
        "max_error(y_test2,y_pred2)"
      ],
      "execution_count": null,
      "outputs": [
        {
          "output_type": "execute_result",
          "data": {
            "text/plain": [
              "984.3059179999909"
            ]
          },
          "metadata": {},
          "execution_count": 18
        }
      ]
    },
    {
      "cell_type": "markdown",
      "metadata": {
        "id": "h4h83WafN-r_"
      },
      "source": [
        "Random Forest"
      ]
    },
    {
      "cell_type": "code",
      "metadata": {
        "id": "hAcGqzOnS1pv"
      },
      "source": [
        "x3 = data_nan.iloc[:4000,0].values\n",
        "y3 = data_nan.iloc[:4000,-1].values\n",
        "from sklearn.model_selection import train_test_split\n",
        "x_train3,x_test3,y_train3,y_test3 = train_test_split(x3,y3,test_size=0.2,\n",
        "                                                     random_state=2021)"
      ],
      "execution_count": null,
      "outputs": []
    },
    {
      "cell_type": "code",
      "metadata": {
        "colab": {
          "base_uri": "https://localhost:8080/"
        },
        "id": "X_t1lfVUTFEo",
        "outputId": "280abd18-433f-484f-876b-9eb7c5a07d6d"
      },
      "source": [
        "x_train3 = np.reshape(x_train3,(-1,1))\n",
        "x_test3 = np.reshape(x_test3,(-1,1))\n",
        "y_train3 = np.reshape(y_train3,(-1,1))\n",
        "y_test3 = np.reshape(y_test3,(-1,1))\n",
        "print(x_train3.shape)\n",
        "print(x_test3.shape)\n",
        "print(y_train3.shape)\n",
        "print(y_test3.shape)"
      ],
      "execution_count": null,
      "outputs": [
        {
          "output_type": "stream",
          "name": "stdout",
          "text": [
            "(3200, 1)\n",
            "(800, 1)\n",
            "(3200, 1)\n",
            "(800, 1)\n"
          ]
        }
      ]
    },
    {
      "cell_type": "code",
      "metadata": {
        "colab": {
          "base_uri": "https://localhost:8080/"
        },
        "id": "GuJiFnUATODU",
        "outputId": "905bca0f-4798-4cf9-8cb2-60080bd6d4bb"
      },
      "source": [
        "from sklearn.ensemble import RandomForestRegressor\n",
        "rf_reg = RandomForestRegressor()\n",
        "rf_reg.fit(x_train3,y_train3)\n",
        "y_pred3 = rf_reg.predict(x_test3) "
      ],
      "execution_count": null,
      "outputs": [
        {
          "output_type": "stream",
          "name": "stderr",
          "text": [
            "/usr/local/lib/python3.7/dist-packages/ipykernel_launcher.py:3: DataConversionWarning: A column-vector y was passed when a 1d array was expected. Please change the shape of y to (n_samples,), for example using ravel().\n",
            "  This is separate from the ipykernel package so we can avoid doing imports until\n"
          ]
        }
      ]
    },
    {
      "cell_type": "code",
      "metadata": {
        "colab": {
          "base_uri": "https://localhost:8080/"
        },
        "id": "Biu1sW9MTt3Q",
        "outputId": "007f6c46-7a3d-436d-9c70-ab8c47fe7de7"
      },
      "source": [
        "x3 = np.reshape(x3,(-1,1))\n",
        "y3 = np.reshape(y3,(-1,1))\n",
        "r_squared_rf = rf_reg.score(x3,y3)\n",
        "print(r_squared_rf)"
      ],
      "execution_count": null,
      "outputs": [
        {
          "output_type": "stream",
          "name": "stdout",
          "text": [
            "0.9901084728821828\n"
          ]
        }
      ]
    },
    {
      "cell_type": "code",
      "metadata": {
        "colab": {
          "base_uri": "https://localhost:8080/",
          "height": 279
        },
        "id": "syF9TYy_YQyi",
        "outputId": "7a29c689-c664-4b78-f42b-85d9c16034cd"
      },
      "source": [
        "plt.scatter(x3,y3)\n",
        "plt.plot(x3,rf_reg.predict(x3),color='red')\n",
        "plt.show()"
      ],
      "execution_count": null,
      "outputs": [
        {
          "output_type": "display_data",
          "data": {
            "image/png": "[encoded data removed]",
            "text/plain": [
              "<Figure size 432x288 with 1 Axes>"
            ]
          },
          "metadata": {
            "needs_background": "light"
          }
        }
      ]
    },
    {
      "cell_type": "code",
      "metadata": {
        "colab": {
          "base_uri": "https://localhost:8080/"
        },
        "id": "S_pL0u0md6ks",
        "outputId": "28a862c1-ec9e-4f61-b95f-0491ae7c76ba"
      },
      "source": [
        "from sklearn.metrics import max_error\n",
        "max_error(y_test3,y_pred3)"
      ],
      "execution_count": null,
      "outputs": [
        {
          "output_type": "execute_result",
          "data": {
            "text/plain": [
              "1.9234828093639997"
            ]
          },
          "metadata": {},
          "execution_count": 24
        }
      ]
    }
  ]
}