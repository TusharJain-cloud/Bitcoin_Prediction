{
  "nbformat": 4,
  "nbformat_minor": 0,
  "metadata": {
    "colab": {
      "name": "Bitcoin_Project.ipynb",
      "provenance": [],
      "collapsed_sections": []
    },
    "kernelspec": {
      "name": "python3",
      "display_name": "Python 3"
    },
    "language_info": {
      "name": "python"
    }
  },
  "cells": [
    {
      "cell_type": "code",
      "metadata": {
        "colab": {
          "base_uri": "https://localhost:8080/"
        },
        "id": "eQCuoHppwYOy",
        "outputId": "e5a7cc58-990f-4e18-c254-efd173842ced"
      },
      "source": [
        "from google.colab import drive\n",
        "drive.mount('/content/drive')"
      ],
      "execution_count": null,
      "outputs": [
        {
          "output_type": "stream",
          "name": "stdout",
          "text": [
            "Drive already mounted at /content/drive; to attempt to forcibly remount, call drive.mount(\"/content/drive\", force_remount=True).\n"
          ]
        }
      ]
    },
    {
      "cell_type": "code",
      "metadata": {
        "id": "n3MnJbhqxq_2"
      },
      "source": [
        "import numpy as np\n",
        "import pandas as pd\n",
        "import matplotlib.pyplot as plt"
      ],
      "execution_count": null,
      "outputs": []
    },
    {
      "cell_type": "code",
      "metadata": {
        "colab": {
          "base_uri": "https://localhost:8080/",
          "height": 204
        },
        "id": "XnA6sB1bx1UP",
        "outputId": "9c2b048b-1c63-4933-9815-9a732bb5cfcc"
      },
      "source": [
        "data = pd.read_csv('/content/drive/MyDrive/Dataset/bitstampUSD_1-min_data_2012-01-01_to_2021-03-31.csv')\n",
        "data.head()"
      ],
      "execution_count": null,
      "outputs": [
        {
          "output_type": "execute_result",
          "data": {
            "text/html": [
              "<div>\n",
              "<style scoped>\n",
              "    .dataframe tbody tr th:only-of-type {\n",
              "        vertical-align: middle;\n",
              "    }\n",
              "\n",
              "    .dataframe tbody tr th {\n",
              "        vertical-align: top;\n",
              "    }\n",
              "\n",
              "    .dataframe thead th {\n",
              "        text-align: right;\n",
              "    }\n",
              "</style>\n",
              "<table border=\"1\" class=\"dataframe\">\n",
              "  <thead>\n",
              "    <tr style=\"text-align: right;\">\n",
              "      <th></th>\n",
              "      <th>Timestamp</th>\n",
              "      <th>Open</th>\n",
              "      <th>High</th>\n",
              "      <th>Low</th>\n",
              "      <th>Close</th>\n",
              "      <th>Volume_(BTC)</th>\n",
              "      <th>Volume_(Currency)</th>\n",
              "      <th>Weighted_Price</th>\n",
              "    </tr>\n",
              "  </thead>\n",
              "  <tbody>\n",
              "    <tr>\n",
              "      <th>0</th>\n",
              "      <td>1325317920</td>\n",
              "      <td>4.39</td>\n",
              "      <td>4.39</td>\n",
              "      <td>4.39</td>\n",
              "      <td>4.39</td>\n",
              "      <td>0.455581</td>\n",
              "      <td>2.0</td>\n",
              "      <td>4.39</td>\n",
              "    </tr>\n",
              "    <tr>\n",
              "      <th>1</th>\n",
              "      <td>1325317980</td>\n",
              "      <td>NaN</td>\n",
              "      <td>NaN</td>\n",
              "      <td>NaN</td>\n",
              "      <td>NaN</td>\n",
              "      <td>NaN</td>\n",
              "      <td>NaN</td>\n",
              "      <td>NaN</td>\n",
              "    </tr>\n",
              "    <tr>\n",
              "      <th>2</th>\n",
              "      <td>1325318040</td>\n",
              "      <td>NaN</td>\n",
              "      <td>NaN</td>\n",
              "      <td>NaN</td>\n",
              "      <td>NaN</td>\n",
              "      <td>NaN</td>\n",
              "      <td>NaN</td>\n",
              "      <td>NaN</td>\n",
              "    </tr>\n",
              "    <tr>\n",
              "      <th>3</th>\n",
              "      <td>1325318100</td>\n",
              "      <td>NaN</td>\n",
              "      <td>NaN</td>\n",
              "      <td>NaN</td>\n",
              "      <td>NaN</td>\n",
              "      <td>NaN</td>\n",
              "      <td>NaN</td>\n",
              "      <td>NaN</td>\n",
              "    </tr>\n",
              "    <tr>\n",
              "      <th>4</th>\n",
              "      <td>1325318160</td>\n",
              "      <td>NaN</td>\n",
              "      <td>NaN</td>\n",
              "      <td>NaN</td>\n",
              "      <td>NaN</td>\n",
              "      <td>NaN</td>\n",
              "      <td>NaN</td>\n",
              "      <td>NaN</td>\n",
              "    </tr>\n",
              "  </tbody>\n",
              "</table>\n",
              "</div>"
            ],
            "text/plain": [
              "    Timestamp  Open  High  ...  Volume_(BTC)  Volume_(Currency)  Weighted_Price\n",
              "0  1325317920  4.39  4.39  ...      0.455581                2.0            4.39\n",
              "1  1325317980   NaN   NaN  ...           NaN                NaN             NaN\n",
              "2  1325318040   NaN   NaN  ...           NaN                NaN             NaN\n",
              "3  1325318100   NaN   NaN  ...           NaN                NaN             NaN\n",
              "4  1325318160   NaN   NaN  ...           NaN                NaN             NaN\n",
              "\n",
              "[5 rows x 8 columns]"
            ]
          },
          "metadata": {},
          "execution_count": 3
        }
      ]
    },
    {
      "cell_type": "code",
      "metadata": {
        "colab": {
          "base_uri": "https://localhost:8080/"
        },
        "id": "-OMNXT0d0Hyg",
        "outputId": "199c0523-d622-4c26-a42e-6b24d6918f34"
      },
      "source": [
        "data.dtypes"
      ],
      "execution_count": null,
      "outputs": [
        {
          "output_type": "execute_result",
          "data": {
            "text/plain": [
              "Timestamp              int64\n",
              "Open                 float64\n",
              "High                 float64\n",
              "Low                  float64\n",
              "Close                float64\n",
              "Volume_(BTC)         float64\n",
              "Volume_(Currency)    float64\n",
              "Weighted_Price       float64\n",
              "dtype: object"
            ]
          },
          "metadata": {},
          "execution_count": 4
        }
      ]
    },
    {
      "cell_type": "code",
      "metadata": {
        "id": "ez9EoUzkWPAx"
      },
      "source": [
        "data['Timestamp'] = data['Timestamp'].astype(float)"
      ],
      "execution_count": null,
      "outputs": []
    },
    {
      "cell_type": "code",
      "metadata": {
        "colab": {
          "base_uri": "https://localhost:8080/"
        },
        "id": "tQY41_c5WhPJ",
        "outputId": "db0d2493-92b4-4735-f67a-534237048bd6"
      },
      "source": [
        "data.dtypes"
      ],
      "execution_count": null,
      "outputs": [
        {
          "output_type": "execute_result",
          "data": {
            "text/plain": [
              "Timestamp            float64\n",
              "Open                 float64\n",
              "High                 float64\n",
              "Low                  float64\n",
              "Close                float64\n",
              "Volume_(BTC)         float64\n",
              "Volume_(Currency)    float64\n",
              "Weighted_Price       float64\n",
              "dtype: object"
            ]
          },
          "metadata": {},
          "execution_count": 6
        }
      ]
    },
    {
      "cell_type": "code",
      "metadata": {
        "colab": {
          "base_uri": "https://localhost:8080/"
        },
        "id": "WeGssXrt0Opc",
        "outputId": "e80a4b05-26e7-406c-b58a-cdb6d1750469"
      },
      "source": [
        "data.isnull().sum()"
      ],
      "execution_count": null,
      "outputs": [
        {
          "output_type": "execute_result",
          "data": {
            "text/plain": [
              "Timestamp                  0\n",
              "Open                 1243608\n",
              "High                 1243608\n",
              "Low                  1243608\n",
              "Close                1243608\n",
              "Volume_(BTC)         1243608\n",
              "Volume_(Currency)    1243608\n",
              "Weighted_Price       1243608\n",
              "dtype: int64"
            ]
          },
          "metadata": {},
          "execution_count": 7
        }
      ]
    },
    {
      "cell_type": "code",
      "metadata": {
        "id": "wzvl_-e60g8o"
      },
      "source": [
        "data_nan = data.dropna()"
      ],
      "execution_count": null,
      "outputs": []
    },
    {
      "cell_type": "code",
      "metadata": {
        "colab": {
          "base_uri": "https://localhost:8080/",
          "height": 204
        },
        "id": "kj5FnXIn1f27",
        "outputId": "e1190623-9a19-4e70-d8ae-b71571f30e1c"
      },
      "source": [
        "data_nan.reset_index(inplace=True, drop=True)\n",
        "data_nan.head()"
      ],
      "execution_count": null,
      "outputs": [
        {
          "output_type": "execute_result",
          "data": {
            "text/html": [
              "<div>\n",
              "<style scoped>\n",
              "    .dataframe tbody tr th:only-of-type {\n",
              "        vertical-align: middle;\n",
              "    }\n",
              "\n",
              "    .dataframe tbody tr th {\n",
              "        vertical-align: top;\n",
              "    }\n",
              "\n",
              "    .dataframe thead th {\n",
              "        text-align: right;\n",
              "    }\n",
              "</style>\n",
              "<table border=\"1\" class=\"dataframe\">\n",
              "  <thead>\n",
              "    <tr style=\"text-align: right;\">\n",
              "      <th></th>\n",
              "      <th>Timestamp</th>\n",
              "      <th>Open</th>\n",
              "      <th>High</th>\n",
              "      <th>Low</th>\n",
              "      <th>Close</th>\n",
              "      <th>Volume_(BTC)</th>\n",
              "      <th>Volume_(Currency)</th>\n",
              "      <th>Weighted_Price</th>\n",
              "    </tr>\n",
              "  </thead>\n",
              "  <tbody>\n",
              "    <tr>\n",
              "      <th>0</th>\n",
              "      <td>1.325318e+09</td>\n",
              "      <td>4.39</td>\n",
              "      <td>4.39</td>\n",
              "      <td>4.39</td>\n",
              "      <td>4.39</td>\n",
              "      <td>0.455581</td>\n",
              "      <td>2.000000</td>\n",
              "      <td>4.390000</td>\n",
              "    </tr>\n",
              "    <tr>\n",
              "      <th>1</th>\n",
              "      <td>1.325347e+09</td>\n",
              "      <td>4.39</td>\n",
              "      <td>4.39</td>\n",
              "      <td>4.39</td>\n",
              "      <td>4.39</td>\n",
              "      <td>48.000000</td>\n",
              "      <td>210.720000</td>\n",
              "      <td>4.390000</td>\n",
              "    </tr>\n",
              "    <tr>\n",
              "      <th>2</th>\n",
              "      <td>1.325351e+09</td>\n",
              "      <td>4.50</td>\n",
              "      <td>4.57</td>\n",
              "      <td>4.50</td>\n",
              "      <td>4.57</td>\n",
              "      <td>37.862297</td>\n",
              "      <td>171.380338</td>\n",
              "      <td>4.526411</td>\n",
              "    </tr>\n",
              "    <tr>\n",
              "      <th>3</th>\n",
              "      <td>1.325351e+09</td>\n",
              "      <td>4.58</td>\n",
              "      <td>4.58</td>\n",
              "      <td>4.58</td>\n",
              "      <td>4.58</td>\n",
              "      <td>9.000000</td>\n",
              "      <td>41.220000</td>\n",
              "      <td>4.580000</td>\n",
              "    </tr>\n",
              "    <tr>\n",
              "      <th>4</th>\n",
              "      <td>1.325391e+09</td>\n",
              "      <td>4.58</td>\n",
              "      <td>4.58</td>\n",
              "      <td>4.58</td>\n",
              "      <td>4.58</td>\n",
              "      <td>1.502000</td>\n",
              "      <td>6.879160</td>\n",
              "      <td>4.580000</td>\n",
              "    </tr>\n",
              "  </tbody>\n",
              "</table>\n",
              "</div>"
            ],
            "text/plain": [
              "      Timestamp  Open  High  ...  Volume_(BTC)  Volume_(Currency)  Weighted_Price\n",
              "0  1.325318e+09  4.39  4.39  ...      0.455581           2.000000        4.390000\n",
              "1  1.325347e+09  4.39  4.39  ...     48.000000         210.720000        4.390000\n",
              "2  1.325351e+09  4.50  4.57  ...     37.862297         171.380338        4.526411\n",
              "3  1.325351e+09  4.58  4.58  ...      9.000000          41.220000        4.580000\n",
              "4  1.325391e+09  4.58  4.58  ...      1.502000           6.879160        4.580000\n",
              "\n",
              "[5 rows x 8 columns]"
            ]
          },
          "metadata": {},
          "execution_count": 9
        }
      ]
    },
    {
      "cell_type": "code",
      "metadata": {
        "colab": {
          "base_uri": "https://localhost:8080/"
        },
        "id": "di8CGStGIIy6",
        "outputId": "8a070c04-c326-4242-a3fa-f43935dad53a"
      },
      "source": [
        "data_nan.columns"
      ],
      "execution_count": null,
      "outputs": [
        {
          "output_type": "execute_result",
          "data": {
            "text/plain": [
              "Index(['Timestamp', 'Open', 'High', 'Low', 'Close', 'Volume_(BTC)',\n",
              "       'Volume_(Currency)', 'Weighted_Price'],\n",
              "      dtype='object')"
            ]
          },
          "metadata": {},
          "execution_count": 10
        }
      ]
    },
    {
      "cell_type": "markdown",
      "metadata": {
        "id": "dpC2VadpMtSP"
      },
      "source": [
        "Linear Regression"
      ]
    },
    {
      "cell_type": "code",
      "metadata": {
        "id": "fflRZw8tySGp"
      },
      "source": [
        "x = data_nan['Timestamp'].values\n",
        "y = data_nan['Weighted_Price'].values"
      ],
      "execution_count": null,
      "outputs": []
    },
    {
      "cell_type": "code",
      "metadata": {
        "id": "kdfgQmt4yyQc"
      },
      "source": [
        "from sklearn.model_selection import train_test_split\n",
        "x_train,x_test,y_train,y_test = train_test_split(x,y,test_size=0.2,\n",
        "                                                 random_state=2021)"
      ],
      "execution_count": null,
      "outputs": []
    },
    {
      "cell_type": "code",
      "metadata": {
        "colab": {
          "base_uri": "https://localhost:8080/"
        },
        "id": "my65Ej7QzTSl",
        "outputId": "d5b47d82-614f-45d8-f69c-c31a1738866a"
      },
      "source": [
        "x_train = np.reshape(x_train,(-1,1))\n",
        "x_test = np.reshape(x_test,(-1,1))\n",
        "y_train = np.reshape(y_train,(-1,1))\n",
        "y_test = np.reshape(y_test,(-1,1))\n",
        "print(x_train.shape)\n",
        "print(x_test.shape)\n",
        "print(y_train.shape)\n",
        "print(y_test.shape)"
      ],
      "execution_count": null,
      "outputs": [
        {
          "output_type": "stream",
          "name": "stdout",
          "text": [
            "(2891015, 1)\n",
            "(722754, 1)\n",
            "(2891015, 1)\n",
            "(722754, 1)\n"
          ]
        }
      ]
    },
    {
      "cell_type": "code",
      "metadata": {
        "id": "poK00LT31-Mj"
      },
      "source": [
        "from sklearn.linear_model import LinearRegression\n",
        "lin_reg = LinearRegression()\n",
        "lin_reg.fit(x_train,y_train)\n",
        "y_pred = lin_reg.predict(x_test)"
      ],
      "execution_count": null,
      "outputs": []
    },
    {
      "cell_type": "code",
      "metadata": {
        "colab": {
          "base_uri": "https://localhost:8080/",
          "height": 279
        },
        "id": "eolP2QUz2rSY",
        "outputId": "bb9fb113-2e8f-40b5-e7cb-acaf21de8e4f"
      },
      "source": [
        "x = np.reshape(x,(-1,1))\n",
        "y = np.reshape(y,(-1,1))\n",
        "plt.scatter(x,y,color='red')\n",
        "plt.plot(x,lin_reg.predict(x))\n",
        "plt.xlabel('Timestamp')\n",
        "plt.ylabel('Price')\n",
        "plt.show()"
      ],
      "execution_count": null,
      "outputs": [
        {
          "output_type": "display_data",
          "data": {
            "image/png": "[encoded data removed]",
            "text/plain": [
              "<Figure size 432x288 with 1 Axes>"
            ]
          },
          "metadata": {
            "needs_background": "light"
          }
        }
      ]
    },
    {
      "cell_type": "code",
      "metadata": {
        "colab": {
          "base_uri": "https://localhost:8080/"
        },
        "id": "Ispp0ApI4_QY",
        "outputId": "dddbaaae-68b1-4e4f-d220-a64b763805a1"
      },
      "source": [
        "r_squared_linear = lin_reg.score(x,y)\n",
        "print(r_squared_linear)"
      ],
      "execution_count": null,
      "outputs": [
        {
          "output_type": "stream",
          "name": "stdout",
          "text": [
            "0.4234585335484554\n"
          ]
        }
      ]
    },
    {
      "cell_type": "markdown",
      "metadata": {
        "id": "Kco1CnfVMleb"
      },
      "source": [
        "Multiple Linear Regression"
      ]
    },
    {
      "cell_type": "code",
      "metadata": {
        "id": "BseaSCSsBrl-"
      },
      "source": [
        "x0 = data_nan.iloc[:,0:7].values\n",
        "y0 = data_nan.iloc[:,-1].values"
      ],
      "execution_count": null,
      "outputs": []
    },
    {
      "cell_type": "code",
      "metadata": {
        "colab": {
          "base_uri": "https://localhost:8080/"
        },
        "id": "7NdkopNeO3mu",
        "outputId": "1b9c243e-fa45-44db-c7f3-20412c3c2236"
      },
      "source": [
        "import statsmodels.formula.api as sm\n",
        "x0.shape"
      ],
      "execution_count": null,
      "outputs": [
        {
          "output_type": "stream",
          "name": "stderr",
          "text": [
            "/usr/local/lib/python3.7/dist-packages/statsmodels/tools/_testing.py:19: FutureWarning: pandas.util.testing is deprecated. Use the functions in the public API at pandas.testing instead.\n",
            "  import pandas.util.testing as tm\n"
          ]
        },
        {
          "output_type": "execute_result",
          "data": {
            "text/plain": [
              "(3613769, 7)"
            ]
          },
          "metadata": {},
          "execution_count": 18
        }
      ]
    },
    {
      "cell_type": "code",
      "metadata": {
        "colab": {
          "base_uri": "https://localhost:8080/"
        },
        "id": "wLPpfZc3QAm8",
        "outputId": "a05c439d-bed0-45ae-b078-42fc5a70543a"
      },
      "source": [
        "ones_array = np.ones((3613769,1),dtype=np.float)\n",
        "ones_array.shape"
      ],
      "execution_count": null,
      "outputs": [
        {
          "output_type": "execute_result",
          "data": {
            "text/plain": [
              "(3613769, 1)"
            ]
          },
          "metadata": {},
          "execution_count": 19
        }
      ]
    },
    {
      "cell_type": "code",
      "metadata": {
        "id": "fCqrZm8oQiOO"
      },
      "source": [
        "x0 = np.append(ones_array,values=x0,axis=1)"
      ],
      "execution_count": null,
      "outputs": []
    },
    {
      "cell_type": "code",
      "metadata": {
        "colab": {
          "base_uri": "https://localhost:8080/"
        },
        "id": "tXfbFicIQ8pR",
        "outputId": "9d80314e-8768-47b6-a016-c48f9531254e"
      },
      "source": [
        "x_for_sm = x0[:,:]\n",
        "x_for_sm.shape"
      ],
      "execution_count": null,
      "outputs": [
        {
          "output_type": "execute_result",
          "data": {
            "text/plain": [
              "(3613769, 8)"
            ]
          },
          "metadata": {},
          "execution_count": 21
        }
      ]
    },
    {
      "cell_type": "code",
      "metadata": {
        "colab": {
          "base_uri": "https://localhost:8080/"
        },
        "id": "6WTHM0ldRO7l",
        "outputId": "b705f760-00eb-4f05-fddf-7bd2cf5b0026"
      },
      "source": [
        "import statsmodels.regression.linear_model as sm\n",
        "mul_reg = sm.OLS(endog=y0,exog=x_for_sm)\n",
        "mul_reg = mul_reg.fit()\n",
        "print(mul_reg.summary())"
      ],
      "execution_count": null,
      "outputs": [
        {
          "output_type": "stream",
          "name": "stdout",
          "text": [
            "                            OLS Regression Results                            \n",
            "==============================================================================\n",
            "Dep. Variable:                      y   R-squared:                       1.000\n",
            "Model:                            OLS   Adj. R-squared:                  1.000\n",
            "Method:                 Least Squares   F-statistic:                 2.645e+12\n",
            "Date:                Thu, 07 Oct 2021   Prob (F-statistic):               0.00\n",
            "Time:                        11:25:38   Log-Likelihood:            -1.0115e+07\n",
            "No. Observations:             3613769   AIC:                         2.023e+07\n",
            "Df Residuals:                 3613761   BIC:                         2.023e+07\n",
            "Df Model:                           7                                         \n",
            "Covariance Type:            nonrobust                                         \n",
            "==============================================================================\n",
            "                 coef    std err          t      P>|t|      [0.025      0.975]\n",
            "------------------------------------------------------------------------------\n",
            "const         -3.7031      0.055    -66.983      0.000      -3.811      -3.595\n",
            "x1          2.612e-09   3.76e-11     69.375      0.000    2.54e-09    2.69e-09\n",
            "x2            -0.0219      0.000    -80.601      0.000      -0.022      -0.021\n",
            "x3             0.4673      0.000   1529.902      0.000       0.467       0.468\n",
            "x4             0.4832      0.000   1724.459      0.000       0.483       0.484\n",
            "x5             0.0714      0.000    247.514      0.000       0.071       0.072\n",
            "x6            -0.0011   7.52e-05    -14.758      0.000      -0.001      -0.001\n",
            "x7         -7.843e-08   1.93e-08     -4.062      0.000   -1.16e-07   -4.06e-08\n",
            "==============================================================================\n",
            "Omnibus:                  2138058.878   Durbin-Watson:                   1.864\n",
            "Prob(Omnibus):                  0.000   Jarque-Bera (JB):      12051783089.891\n",
            "Skew:                           1.063   Prob(JB):                         0.00\n",
            "Kurtosis:                     285.904   Cond. No.                     3.97e+10\n",
            "==============================================================================\n",
            "\n",
            "Warnings:\n",
            "[1] Standard Errors assume that the covariance matrix of the errors is correctly specified.\n",
            "[2] The condition number is large, 3.97e+10. This might indicate that there are\n",
            "strong multicollinearity or other numerical problems.\n"
          ]
        }
      ]
    },
    {
      "cell_type": "code",
      "metadata": {
        "id": "gYiq4iXbb2Xv"
      },
      "source": [
        "x_for_sm = x_for_sm[:,0:6]"
      ],
      "execution_count": null,
      "outputs": []
    },
    {
      "cell_type": "code",
      "metadata": {
        "colab": {
          "base_uri": "https://localhost:8080/"
        },
        "id": "F84R5jijdRPh",
        "outputId": "30c95442-d55c-41e6-9bc9-235600170994"
      },
      "source": [
        "mul_reg = sm.OLS(endog=y0,exog=x_for_sm)\n",
        "mul_reg = mul_reg.fit()\n",
        "print(mul_reg.summary())"
      ],
      "execution_count": null,
      "outputs": [
        {
          "output_type": "stream",
          "name": "stdout",
          "text": [
            "                            OLS Regression Results                            \n",
            "==============================================================================\n",
            "Dep. Variable:                      y   R-squared:                       1.000\n",
            "Model:                            OLS   Adj. R-squared:                  1.000\n",
            "Method:                 Least Squares   F-statistic:                 3.702e+12\n",
            "Date:                Thu, 07 Oct 2021   Prob (F-statistic):               0.00\n",
            "Time:                        11:25:40   Log-Likelihood:            -1.0115e+07\n",
            "No. Observations:             3613769   AIC:                         2.023e+07\n",
            "Df Residuals:                 3613763   BIC:                         2.023e+07\n",
            "Df Model:                           5                                         \n",
            "Covariance Type:            nonrobust                                         \n",
            "==============================================================================\n",
            "                 coef    std err          t      P>|t|      [0.025      0.975]\n",
            "------------------------------------------------------------------------------\n",
            "const         -3.7578      0.055    -68.773      0.000      -3.865      -3.651\n",
            "x1           2.64e-09   3.73e-11     70.875      0.000    2.57e-09    2.71e-09\n",
            "x2            -0.0219      0.000    -80.669      0.000      -0.022      -0.021\n",
            "x3             0.4666      0.000   1599.960      0.000       0.466       0.467\n",
            "x4             0.4839      0.000   1836.335      0.000       0.483       0.484\n",
            "x5             0.0714      0.000    247.593      0.000       0.071       0.072\n",
            "==============================================================================\n",
            "Omnibus:                  2150011.047   Durbin-Watson:                   1.864\n",
            "Prob(Omnibus):                  0.000   Jarque-Bera (JB):      12138453156.469\n",
            "Skew:                           1.080   Prob(JB):                         0.00\n",
            "Kurtosis:                     286.919   Cond. No.                     3.92e+10\n",
            "==============================================================================\n",
            "\n",
            "Warnings:\n",
            "[1] Standard Errors assume that the covariance matrix of the errors is correctly specified.\n",
            "[2] The condition number is large, 3.92e+10. This might indicate that there are\n",
            "strong multicollinearity or other numerical problems.\n"
          ]
        }
      ]
    },
    {
      "cell_type": "code",
      "metadata": {
        "colab": {
          "base_uri": "https://localhost:8080/"
        },
        "id": "mAF1jnBBdhkU",
        "outputId": "d95ebd46-6b1b-4fb5-dc9e-72f8901882b0"
      },
      "source": [
        "x_for_sm = x_for_sm[:,[0,1,2,3,4]]\n",
        "mul_reg = sm.OLS(endog=y0,exog=x_for_sm)\n",
        "mul_reg = mul_reg.fit()\n",
        "print(mul_reg.summary())"
      ],
      "execution_count": null,
      "outputs": [
        {
          "output_type": "stream",
          "name": "stdout",
          "text": [
            "                            OLS Regression Results                            \n",
            "==============================================================================\n",
            "Dep. Variable:                      y   R-squared:                       1.000\n",
            "Model:                            OLS   Adj. R-squared:                  1.000\n",
            "Method:                 Least Squares   F-statistic:                 4.550e+12\n",
            "Date:                Thu, 07 Oct 2021   Prob (F-statistic):               0.00\n",
            "Time:                        11:25:41   Log-Likelihood:            -1.0145e+07\n",
            "No. Observations:             3613769   AIC:                         2.029e+07\n",
            "Df Residuals:                 3613764   BIC:                         2.029e+07\n",
            "Df Model:                           4                                         \n",
            "Covariance Type:            nonrobust                                         \n",
            "==============================================================================\n",
            "                 coef    std err          t      P>|t|      [0.025      0.975]\n",
            "------------------------------------------------------------------------------\n",
            "const         -3.6502      0.055    -66.245      0.000      -3.758      -3.542\n",
            "x1          2.568e-09   3.76e-11     68.344      0.000    2.49e-09    2.64e-09\n",
            "x2            -0.0572      0.000   -245.993      0.000      -0.058      -0.057\n",
            "x3             0.5230      0.000   2854.174      0.000       0.523       0.523\n",
            "x4             0.5342      0.000   3151.149      0.000       0.534       0.535\n",
            "==============================================================================\n",
            "Omnibus:                  2674590.730   Durbin-Watson:                   1.836\n",
            "Prob(Omnibus):                  0.000   Jarque-Bera (JB):      22241040850.592\n",
            "Skew:                           1.795   Prob(JB):                         0.00\n",
            "Kurtosis:                     387.312   Cond. No.                     3.92e+10\n",
            "==============================================================================\n",
            "\n",
            "Warnings:\n",
            "[1] Standard Errors assume that the covariance matrix of the errors is correctly specified.\n",
            "[2] The condition number is large, 3.92e+10. This might indicate that there are\n",
            "strong multicollinearity or other numerical problems.\n"
          ]
        }
      ]
    },
    {
      "cell_type": "code",
      "metadata": {
        "colab": {
          "base_uri": "https://localhost:8080/"
        },
        "id": "vF4bpYokeA8o",
        "outputId": "9c76076a-65dd-4fe1-8122-e1a49c2ef82e"
      },
      "source": [
        "x_for_sm = x_for_sm[:,[0,1,2,3]]\n",
        "mul_reg = sm.OLS(endog=y0,exog=x_for_sm)\n",
        "mul_reg = mul_reg.fit()\n",
        "print(mul_reg.summary())"
      ],
      "execution_count": null,
      "outputs": [
        {
          "output_type": "stream",
          "name": "stdout",
          "text": [
            "                            OLS Regression Results                            \n",
            "==============================================================================\n",
            "Dep. Variable:                      y   R-squared:                       1.000\n",
            "Model:                            OLS   Adj. R-squared:                  1.000\n",
            "Method:                 Least Squares   F-statistic:                 1.619e+12\n",
            "Date:                Thu, 07 Oct 2021   Prob (F-statistic):               0.00\n",
            "Time:                        11:25:43   Log-Likelihood:            -1.2532e+07\n",
            "No. Observations:             3613769   AIC:                         2.506e+07\n",
            "Df Residuals:                 3613765   BIC:                         2.506e+07\n",
            "Df Model:                           3                                         \n",
            "Covariance Type:            nonrobust                                         \n",
            "==============================================================================\n",
            "                 coef    std err          t      P>|t|      [0.025      0.975]\n",
            "------------------------------------------------------------------------------\n",
            "const        -19.0348      0.106   -179.151      0.000     -19.243     -18.827\n",
            "x1          1.326e-08   7.24e-11    183.064      0.000    1.31e-08    1.34e-08\n",
            "x2             0.4002      0.000   1137.065      0.000       0.400       0.401\n",
            "x3             0.5992      0.000   1704.005      0.000       0.599       0.600\n",
            "==============================================================================\n",
            "Omnibus:                  6160209.510   Durbin-Watson:                   1.327\n",
            "Prob(Omnibus):                  0.000   Jarque-Bera (JB):      24596238594.208\n",
            "Skew:                         -11.230   Prob(JB):                         0.00\n",
            "Kurtosis:                     406.542   Cond. No.                     3.90e+10\n",
            "==============================================================================\n",
            "\n",
            "Warnings:\n",
            "[1] Standard Errors assume that the covariance matrix of the errors is correctly specified.\n",
            "[2] The condition number is large, 3.9e+10. This might indicate that there are\n",
            "strong multicollinearity or other numerical problems.\n"
          ]
        }
      ]
    },
    {
      "cell_type": "code",
      "metadata": {
        "colab": {
          "base_uri": "https://localhost:8080/"
        },
        "id": "mpNZmtXNeNpG",
        "outputId": "b9c6271e-a70a-46b8-99f0-3e3d231f0b93"
      },
      "source": [
        "x_for_sm = x_for_sm[:,[0,1,2]]\n",
        "mul_reg = sm.OLS(endog=y0,exog=x_for_sm)\n",
        "mul_reg = mul_reg.fit()\n",
        "print(mul_reg.summary())"
      ],
      "execution_count": null,
      "outputs": [
        {
          "output_type": "stream",
          "name": "stdout",
          "text": [
            "                            OLS Regression Results                            \n",
            "==============================================================================\n",
            "Dep. Variable:                      y   R-squared:                       1.000\n",
            "Model:                            OLS   Adj. R-squared:                  1.000\n",
            "Method:                 Least Squares   F-statistic:                 1.346e+12\n",
            "Date:                Thu, 07 Oct 2021   Prob (F-statistic):               0.00\n",
            "Time:                        11:25:44   Log-Likelihood:            -1.3598e+07\n",
            "No. Observations:             3613769   AIC:                         2.720e+07\n",
            "Df Residuals:                 3613766   BIC:                         2.720e+07\n",
            "Df Model:                           2                                         \n",
            "Covariance Type:            nonrobust                                         \n",
            "==============================================================================\n",
            "                 coef    std err          t      P>|t|      [0.025      0.975]\n",
            "------------------------------------------------------------------------------\n",
            "const         -5.6220      0.142    -39.509      0.000      -5.901      -5.343\n",
            "x1          3.895e-09    9.7e-11     40.157      0.000     3.7e-09    4.08e-09\n",
            "x2             0.9999   8.03e-07   1.25e+06      0.000       1.000       1.000\n",
            "==============================================================================\n",
            "Omnibus:                  2100721.946   Durbin-Watson:                   1.879\n",
            "Prob(Omnibus):                  0.000   Jarque-Bera (JB):       6115991760.341\n",
            "Skew:                          -1.127   Prob(JB):                         0.00\n",
            "Kurtosis:                     204.526   Cond. No.                     3.89e+10\n",
            "==============================================================================\n",
            "\n",
            "Warnings:\n",
            "[1] Standard Errors assume that the covariance matrix of the errors is correctly specified.\n",
            "[2] The condition number is large, 3.89e+10. This might indicate that there are\n",
            "strong multicollinearity or other numerical problems.\n"
          ]
        }
      ]
    },
    {
      "cell_type": "code",
      "metadata": {
        "colab": {
          "base_uri": "https://localhost:8080/"
        },
        "id": "xxn-esvxecik",
        "outputId": "85b53141-d5b5-4a7b-853c-25b4b8f12bc0"
      },
      "source": [
        "x_for_sm = x_for_sm[:,[0,1]]\n",
        "mul_reg = sm.OLS(endog=y0,exog=x_for_sm)\n",
        "mul_reg = mul_reg.fit()\n",
        "print(mul_reg.summary())"
      ],
      "execution_count": null,
      "outputs": [
        {
          "output_type": "stream",
          "name": "stdout",
          "text": [
            "                            OLS Regression Results                            \n",
            "==============================================================================\n",
            "Dep. Variable:                      y   R-squared:                       0.423\n",
            "Model:                            OLS   Adj. R-squared:                  0.423\n",
            "Method:                 Least Squares   F-statistic:                 2.654e+06\n",
            "Date:                Thu, 07 Oct 2021   Prob (F-statistic):               0.00\n",
            "Time:                        11:25:45   Log-Likelihood:            -3.7034e+07\n",
            "No. Observations:             3613769   AIC:                         7.407e+07\n",
            "Df Residuals:                 3613767   BIC:                         7.407e+07\n",
            "Df Model:                           1                                         \n",
            "Covariance Type:            nonrobust                                         \n",
            "==============================================================================\n",
            "                 coef    std err          t      P>|t|      [0.025      0.975]\n",
            "------------------------------------------------------------------------------\n",
            "const      -1.118e+05     72.396  -1544.177      0.000   -1.12e+05   -1.12e+05\n",
            "x1          7.864e-05   4.83e-08   1629.186      0.000    7.85e-05    7.87e-05\n",
            "==============================================================================\n",
            "Omnibus:                  2836105.538   Durbin-Watson:                   0.000\n",
            "Prob(Omnibus):                  0.000   Jarque-Bera (JB):         55561556.761\n",
            "Skew:                           3.769   Prob(JB):                         0.00\n",
            "Kurtosis:                      20.668   Cond. No.                     3.02e+10\n",
            "==============================================================================\n",
            "\n",
            "Warnings:\n",
            "[1] Standard Errors assume that the covariance matrix of the errors is correctly specified.\n",
            "[2] The condition number is large, 3.02e+10. This might indicate that there are\n",
            "strong multicollinearity or other numerical problems.\n"
          ]
        }
      ]
    },
    {
      "cell_type": "code",
      "metadata": {
        "colab": {
          "base_uri": "https://localhost:8080/"
        },
        "id": "nm06LKsEY4aT",
        "outputId": "ed38a976-996e-4b7d-a062-daa9f69ffe01"
      },
      "source": [
        "x0 = x0[:,1:3]\n",
        "x0"
      ],
      "execution_count": null,
      "outputs": [
        {
          "output_type": "execute_result",
          "data": {
            "text/plain": [
              "array([[1.32531792e+09, 4.39000000e+00],\n",
              "       [1.32534660e+09, 4.39000000e+00],\n",
              "       [1.32535074e+09, 4.50000000e+00],\n",
              "       ...,\n",
              "       [1.61714868e+09, 5.86934300e+04],\n",
              "       [1.61714874e+09, 5.87421800e+04],\n",
              "       [1.61714880e+09, 5.87677500e+04]])"
            ]
          },
          "metadata": {},
          "execution_count": 29
        }
      ]
    },
    {
      "cell_type": "code",
      "metadata": {
        "id": "a-hAJ2zhZFjH"
      },
      "source": [
        "from sklearn.model_selection import train_test_split\n",
        "x_train0,x_test0,y_train0,y_test0 = train_test_split(x0,y0,test_size=0.2,\n",
        "                                                 random_state=2021)"
      ],
      "execution_count": null,
      "outputs": []
    },
    {
      "cell_type": "code",
      "metadata": {
        "colab": {
          "base_uri": "https://localhost:8080/"
        },
        "id": "cHuLBfLlZWww",
        "outputId": "1efe390b-eb99-43ff-f502-70163a852c47"
      },
      "source": [
        "y_train0 = np.reshape(y_train,(-1,1))\n",
        "y_test0 = np.reshape(y_test,(-1,1))\n",
        "print(x_train0.shape)\n",
        "print(x_test0.shape)\n",
        "print(y_train0.shape)\n",
        "print(y_test0.shape)"
      ],
      "execution_count": null,
      "outputs": [
        {
          "output_type": "stream",
          "name": "stdout",
          "text": [
            "(2891015, 2)\n",
            "(722754, 2)\n",
            "(2891015, 1)\n",
            "(722754, 1)\n"
          ]
        }
      ]
    },
    {
      "cell_type": "code",
      "metadata": {
        "id": "SjELZa2YZl5H"
      },
      "source": [
        "from sklearn.linear_model import LinearRegression\n",
        "mul_reg0 = LinearRegression()\n",
        "mul_reg0.fit(x_train0,y_train0)\n",
        "y_pred0 = mul_reg0.predict(x_test0)"
      ],
      "execution_count": null,
      "outputs": []
    },
    {
      "cell_type": "code",
      "metadata": {
        "colab": {
          "base_uri": "https://localhost:8080/"
        },
        "id": "oZr2FRn3Z9Hd",
        "outputId": "940a9641-8a64-43cc-f084-760382a152a5"
      },
      "source": [
        "r_squared_multiple = mul_reg0.score(x0,y0)\n",
        "print(r_squared_multiple)"
      ],
      "execution_count": null,
      "outputs": [
        {
          "output_type": "stream",
          "name": "stdout",
          "text": [
            "0.999998658042766\n"
          ]
        }
      ]
    },
    {
      "cell_type": "markdown",
      "metadata": {
        "id": "j5eTeG0kIxTM"
      },
      "source": [
        "Polynomial Regression"
      ]
    },
    {
      "cell_type": "code",
      "metadata": {
        "id": "Fo8k5cebIwb9"
      },
      "source": [
        "from sklearn.linear_model import LinearRegression\n",
        "poly_lin_reg = LinearRegression()\n",
        "from sklearn.preprocessing import PolynomialFeatures\n",
        "poly_reg = PolynomialFeatures(degree=25)\n",
        "x_for_pol = poly_reg.fit_transform(x)\n",
        "poly_lin_reg.fit(x_for_pol,y)\n",
        "y_pred1 = poly_lin_reg.predict(x_for_pol)"
      ],
      "execution_count": null,
      "outputs": []
    },
    {
      "cell_type": "code",
      "metadata": {
        "colab": {
          "base_uri": "https://localhost:8080/",
          "height": 278
        },
        "id": "DdKfl-xRLWh4",
        "outputId": "e5b7a73a-5428-4f5d-aeba-8b82a8867348"
      },
      "source": [
        "plt.scatter(x,y)\n",
        "plt.plot(x_for_pol,y_pred1)\n",
        "plt.show()"
      ],
      "execution_count": null,
      "outputs": [
        {
          "output_type": "display_data",
          "data": {
            "image/png": "[encoded data removed]",
            "text/plain": [
              "<Figure size 432x288 with 1 Axes>"
            ]
          },
          "metadata": {
            "needs_background": "light"
          }
        }
      ]
    },
    {
      "cell_type": "code",
      "metadata": {
        "colab": {
          "base_uri": "https://localhost:8080/"
        },
        "id": "rJ35LOg6L4MB",
        "outputId": "35214114-ad26-41bc-f025-a0bccfcd5e9a"
      },
      "source": [
        "r_squared_poly = poly_lin_reg.score(x_for_pol,y)\n",
        "print(r_squared_poly)"
      ],
      "execution_count": null,
      "outputs": [
        {
          "output_type": "stream",
          "name": "stdout",
          "text": [
            "0.6581473750896255\n"
          ]
        }
      ]
    }
  ]
}